{
 "cells": [
  {
   "cell_type": "code",
   "execution_count": 9,
   "metadata": {},
   "outputs": [
    {
     "name": "stdout",
     "output_type": "stream",
     "text": [
      "tf.Tensor(4, shape=(), dtype=int32)\n",
      "0\n"
     ]
    }
   ],
   "source": [
    "import tensorflow as tf\n",
    "tensor_z=tf.constant(4)\n",
    "print(tensor_z)\n",
    "print(tensor_z.ndim)"
   ]
  },
  {
   "cell_type": "code",
   "execution_count": 13,
   "metadata": {},
   "outputs": [
    {
     "name": "stdout",
     "output_type": "stream",
     "text": [
      "tf.Tensor(\n",
      "[[[[[ 2. -3.  2.]\n",
      "    [ 3.  4.  5.]]\n",
      "\n",
      "   [[ 5. -5. 10.]\n",
      "    [ 3.  4.  5.]]\n",
      "\n",
      "   [[ 2.  6.  7.]\n",
      "    [ 4.  5.  6.]]]\n",
      "\n",
      "\n",
      "  [[[ 2. -3.  2.]\n",
      "    [ 3.  4.  5.]]\n",
      "\n",
      "   [[ 5. -5. 10.]\n",
      "    [ 3.  4.  5.]]\n",
      "\n",
      "   [[ 2.  6.  7.]\n",
      "    [ 4.  5.  6.]]]]\n",
      "\n",
      "\n",
      "\n",
      " [[[[ 2. -3.  2.]\n",
      "    [ 3.  4.  5.]]\n",
      "\n",
      "   [[ 5. -5. 10.]\n",
      "    [ 3.  4.  5.]]\n",
      "\n",
      "   [[ 2.  6.  7.]\n",
      "    [ 4.  5.  6.]]]\n",
      "\n",
      "\n",
      "  [[[ 2. -3.  2.]\n",
      "    [ 3.  4.  5.]]\n",
      "\n",
      "   [[ 5. -5. 10.]\n",
      "    [ 3.  4.  5.]]\n",
      "\n",
      "   [[ 2.  6.  7.]\n",
      "    [ 4.  5.  6.]]]]], shape=(2, 2, 3, 2, 3), dtype=float32)\n",
      "5\n"
     ]
    }
   ],
   "source": [
    "t_two=tf.constant([[[[[2,-3,2],\n",
    "                   [3,4,5]],\n",
    "                   [[5,-5,10],[3,4,5]],[[2,6,7],[4,5,6]]],\n",
    "                  [[[2,-3,2],\n",
    "                   [3,4,5]],\n",
    "                   [[5,-5,10],[3,4,5]],[[2,6,7],[4,5,6]]]],[[[[2,-3,2],\n",
    "                   [3,4,5]],\n",
    "                   [[5,-5,10],[3,4,5]],[[2,6,7],[4,5,6]]],\n",
    "                  [[[2,-3,2],\n",
    "                   [3,4,5]],\n",
    "                   [[5,-5,10],[3,4,5]],[[2,6,7],[4,5,6]]]]], shape=(2, 2, 3, 2, 3), dtype=tf.float32)\n",
    "print(t_two)\n",
    "print(t_two.ndim)\n",
    " "
   ]
  },
  {
   "cell_type": "code",
   "execution_count": 14,
   "metadata": {},
   "outputs": [
    {
     "name": "stdout",
     "output_type": "stream",
     "text": [
      "[1 2 3]\n"
     ]
    }
   ],
   "source": [
    "import numpy as np\n",
    "arr=np.array([1,2,3])\n",
    "print(arr)"
   ]
  },
  {
   "cell_type": "code",
   "execution_count": 17,
   "metadata": {},
   "outputs": [
    {
     "name": "stdout",
     "output_type": "stream",
     "text": [
      "tf.Tensor([1 2 3], shape=(3,), dtype=int32)\n"
     ]
    }
   ],
   "source": [
    "t_tensor=tf.convert_to_tensor(arr)\n",
    "print(t_tensor)\n"
   ]
  },
  {
   "cell_type": "code",
   "execution_count": 19,
   "metadata": {},
   "outputs": [
    {
     "name": "stdout",
     "output_type": "stream",
     "text": [
      "tf.Tensor(\n",
      "[[ True False False]\n",
      " [False  True False]\n",
      " [False False  True]], shape=(3, 3), dtype=bool)\n"
     ]
    }
   ],
   "source": [
    "eten=tf.eye(\n",
    "  num_rows=3,\n",
    "  num_columns=None,\n",
    "  batch_shape=None,\n",
    "  dtype=tf.dtypes.bool,\n",
    "  name=None\n",
    "  \n",
    ")\n",
    "print(eten)"
   ]
  }
 ],
 "metadata": {
  "kernelspec": {
   "display_name": ".venv",
   "language": "python",
   "name": "python3"
  },
  "language_info": {
   "codemirror_mode": {
    "name": "ipython",
    "version": 3
   },
   "file_extension": ".py",
   "mimetype": "text/x-python",
   "name": "python",
   "nbconvert_exporter": "python",
   "pygments_lexer": "ipython3",
   "version": "3.12.2"
  }
 },
 "nbformat": 4,
 "nbformat_minor": 2
}
